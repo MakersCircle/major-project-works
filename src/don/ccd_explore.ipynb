{
 "cells": [
  {
   "cell_type": "code",
   "id": "initial_id",
   "metadata": {
    "collapsed": true,
    "ExecuteTime": {
     "end_time": "2024-12-14T15:29:48.562780Z",
     "start_time": "2024-12-14T15:29:48.080630Z"
    }
   },
   "source": [
    "import re\n",
    "import pandas as pd\n",
    "from pathlib import Path"
   ],
   "outputs": [],
   "execution_count": 1
  },
  {
   "metadata": {
    "ExecuteTime": {
     "end_time": "2024-12-14T15:29:48.848501Z",
     "start_time": "2024-12-14T15:29:48.844809Z"
    }
   },
   "cell_type": "code",
   "source": [
    "dataset_path = Path().resolve().parent.parent / 'datasets'\n",
    "ccd_path = dataset_path / 'ccd'"
   ],
   "id": "4bfcb8ef28c3dfc",
   "outputs": [],
   "execution_count": 2
  },
  {
   "metadata": {
    "ExecuteTime": {
     "end_time": "2024-12-14T15:30:02.983370Z",
     "start_time": "2024-12-14T15:30:02.971881Z"
    }
   },
   "cell_type": "code",
   "source": [
    "with open(ccd_path / 'Crash-1500.txt', 'r') as f:\n",
    "    annotations = f.readlines()"
   ],
   "id": "e1a267776386c893",
   "outputs": [],
   "execution_count": 3
  },
  {
   "metadata": {
    "ExecuteTime": {
     "end_time": "2024-12-14T15:30:19.191433Z",
     "start_time": "2024-12-14T15:30:19.120731Z"
    }
   },
   "cell_type": "code",
   "source": [
    "data = []\n",
    "for line in annotations:\n",
    "    # Use regex to extract fields properly\n",
    "    match = re.match(r\"^(\\d+),(\\[.*?\\]),(\\d+),(\\d+),(Day|Night),(Normal|Snowy|Rainy),(Yes|No)$\", line.strip())\n",
    "    if match:\n",
    "        vidname = match.group(1)\n",
    "        binlabels = eval(match.group(2))  # Safely evaluate the binary labels\n",
    "        startframe = int(match.group(3))\n",
    "        youtubeID = match.group(4)\n",
    "        timing = match.group(5)\n",
    "        weather = match.group(6)\n",
    "        egoinvolve = match.group(7)\n",
    "        \n",
    "        data.append([vidname, binlabels, startframe, youtubeID, timing, weather, egoinvolve])\n",
    "\n",
    "# Define columns and create DataFrame\n",
    "columns = ['vidname', 'binlabels', 'startframe', 'youtubeID', 'timing', 'weather', 'egoinvolve']\n",
    "df = pd.DataFrame(data, columns=columns)"
   ],
   "id": "706ab96f02d9533a",
   "outputs": [],
   "execution_count": 4
  },
  {
   "metadata": {
    "ExecuteTime": {
     "end_time": "2024-12-14T15:39:30.116730Z",
     "start_time": "2024-12-14T15:39:30.113176Z"
    }
   },
   "cell_type": "code",
   "source": [
    "import os\n",
    "print(os.listdir(ccd_path))\n",
    "print(os.listdir(ccd_path / 'Crash-1500' )[0])"
   ],
   "id": "2cdeae7632ba99e0",
   "outputs": [
    {
     "name": "stdout",
     "output_type": "stream",
     "text": [
      "['codes', 'README.md', 'Crash-1500.txt', 'Crash-1500', 'ytb_list.txt', 'YouTube_download.py', 'Normal']\n",
      "000651.mp4\n"
     ]
    }
   ],
   "execution_count": 11
  },
  {
   "metadata": {
    "ExecuteTime": {
     "end_time": "2024-12-14T15:38:51.674160Z",
     "start_time": "2024-12-14T15:38:51.670807Z"
    }
   },
   "cell_type": "code",
   "source": "print(os.listdir(ccd_path / 'Crash-1500' )[0])",
   "id": "129d00912e95bb30",
   "outputs": [
    {
     "data": {
      "text/plain": [
       "'000651.mp4'"
      ]
     },
     "execution_count": 9,
     "metadata": {},
     "output_type": "execute_result"
    }
   ],
   "execution_count": 9
  },
  {
   "metadata": {},
   "cell_type": "code",
   "outputs": [],
   "execution_count": null,
   "source": "",
   "id": "83f043125e4f40ae"
  }
 ],
 "metadata": {
  "kernelspec": {
   "display_name": "Python 3",
   "language": "python",
   "name": "python3"
  },
  "language_info": {
   "codemirror_mode": {
    "name": "ipython",
    "version": 2
   },
   "file_extension": ".py",
   "mimetype": "text/x-python",
   "name": "python",
   "nbconvert_exporter": "python",
   "pygments_lexer": "ipython2",
   "version": "2.7.6"
  }
 },
 "nbformat": 4,
 "nbformat_minor": 5
}
