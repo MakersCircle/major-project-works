{
 "cells": [
  {
   "cell_type": "code",
   "id": "initial_id",
   "metadata": {
    "collapsed": true,
    "ExecuteTime": {
     "end_time": "2024-12-09T13:59:24.309801Z",
     "start_time": "2024-12-09T13:59:24.307396Z"
    }
   },
   "source": [
    "import re\n",
    "import pandas as pd\n",
    "from pathlib import Path"
   ],
   "outputs": [],
   "execution_count": 23
  },
  {
   "metadata": {
    "ExecuteTime": {
     "end_time": "2024-12-09T13:48:01.157650Z",
     "start_time": "2024-12-09T13:48:01.154813Z"
    }
   },
   "cell_type": "code",
   "source": [
    "dataset_path = Path().resolve().parent.parent / 'datasets'\n",
    "ccd_path = dataset_path / 'ccd'"
   ],
   "id": "4bfcb8ef28c3dfc",
   "outputs": [],
   "execution_count": 12
  },
  {
   "metadata": {
    "ExecuteTime": {
     "end_time": "2024-12-09T13:49:29.086819Z",
     "start_time": "2024-12-09T13:49:29.078550Z"
    }
   },
   "cell_type": "code",
   "source": [
    "with open(ccd_path / 'Crash-1500.txt', 'r') as f:\n",
    "    annotations = f.readlines()"
   ],
   "id": "e1a267776386c893",
   "outputs": [],
   "execution_count": 13
  },
  {
   "metadata": {
    "ExecuteTime": {
     "end_time": "2024-12-09T13:55:34.207588Z",
     "start_time": "2024-12-09T13:55:34.142020Z"
    }
   },
   "cell_type": "code",
   "source": [
    "data = []\n",
    "for line in annotations:\n",
    "    # Use regex to extract fields properly\n",
    "    match = re.match(r\"^(\\d+),(\\[.*?\\]),(\\d+),(\\d+),(Day|Night),(Normal|Snowy|Rainy),(Yes|No)$\", line.strip())\n",
    "    if match:\n",
    "        vidname = match.group(1)\n",
    "        binlabels = eval(match.group(2))  # Safely evaluate the binary labels\n",
    "        startframe = int(match.group(3))\n",
    "        youtubeID = match.group(4)\n",
    "        timing = match.group(5)\n",
    "        weather = match.group(6)\n",
    "        egoinvolve = match.group(7)\n",
    "        \n",
    "        data.append([vidname, binlabels, startframe, youtubeID, timing, weather, egoinvolve])\n",
    "\n",
    "# Define columns and create DataFrame\n",
    "columns = ['vidname', 'binlabels', 'startframe', 'youtubeID', 'timing', 'weather', 'egoinvolve']\n",
    "df = pd.DataFrame(data, columns=columns)"
   ],
   "id": "706ab96f02d9533a",
   "outputs": [],
   "execution_count": 21
  },
  {
   "metadata": {
    "ExecuteTime": {
     "end_time": "2024-12-09T13:55:36.102410Z",
     "start_time": "2024-12-09T13:55:36.086971Z"
    }
   },
   "cell_type": "code",
   "source": "",
   "id": "2cdeae7632ba99e0",
   "outputs": [
    {
     "data": {
      "text/plain": [
       "     vidname                                          binlabels  startframe  \\\n",
       "0     000001  [0, 0, 0, 0, 0, 0, 0, 0, 0, 0, 0, 0, 0, 0, 0, ...         285   \n",
       "1     000002  [0, 0, 0, 0, 0, 0, 0, 0, 0, 0, 0, 0, 0, 0, 0, ...         646   \n",
       "2     000003  [0, 0, 0, 0, 0, 0, 0, 0, 0, 0, 0, 0, 0, 0, 0, ...         972   \n",
       "3     000004  [0, 0, 0, 0, 0, 0, 0, 0, 0, 0, 0, 0, 0, 0, 0, ...        1257   \n",
       "4     000005  [0, 0, 0, 0, 0, 0, 0, 0, 0, 0, 0, 0, 0, 0, 0, ...         462   \n",
       "...      ...                                                ...         ...   \n",
       "1495  001496  [0, 0, 0, 0, 0, 0, 0, 0, 0, 0, 0, 0, 0, 0, 0, ...        2116   \n",
       "1496  001497  [0, 0, 0, 0, 0, 0, 0, 0, 0, 0, 0, 0, 0, 0, 0, ...        2591   \n",
       "1497  001498  [0, 0, 0, 0, 0, 0, 0, 0, 0, 0, 0, 0, 0, 0, 0, ...        4798   \n",
       "1498  001499  [0, 0, 0, 0, 0, 0, 0, 0, 0, 0, 0, 0, 0, 0, 0, ...         548   \n",
       "1499  001500  [0, 0, 0, 0, 0, 0, 0, 0, 0, 0, 0, 0, 0, 0, 0, ...         799   \n",
       "\n",
       "     youtubeID timing weather egoinvolve  \n",
       "0         0000    Day  Normal        Yes  \n",
       "1         0000    Day  Normal        Yes  \n",
       "2         0000    Day  Normal        Yes  \n",
       "3         0000    Day  Normal        Yes  \n",
       "4         0010    Day   Snowy        Yes  \n",
       "...        ...    ...     ...        ...  \n",
       "1495      0169    Day   Snowy        Yes  \n",
       "1496      0169    Day  Normal        Yes  \n",
       "1497      0169    Day   Snowy        Yes  \n",
       "1498      0170    Day   Snowy         No  \n",
       "1499      0170    Day  Normal        Yes  \n",
       "\n",
       "[1500 rows x 7 columns]"
      ],
      "text/html": [
       "<div>\n",
       "<style scoped>\n",
       "    .dataframe tbody tr th:only-of-type {\n",
       "        vertical-align: middle;\n",
       "    }\n",
       "\n",
       "    .dataframe tbody tr th {\n",
       "        vertical-align: top;\n",
       "    }\n",
       "\n",
       "    .dataframe thead th {\n",
       "        text-align: right;\n",
       "    }\n",
       "</style>\n",
       "<table border=\"1\" class=\"dataframe\">\n",
       "  <thead>\n",
       "    <tr style=\"text-align: right;\">\n",
       "      <th></th>\n",
       "      <th>vidname</th>\n",
       "      <th>binlabels</th>\n",
       "      <th>startframe</th>\n",
       "      <th>youtubeID</th>\n",
       "      <th>timing</th>\n",
       "      <th>weather</th>\n",
       "      <th>egoinvolve</th>\n",
       "    </tr>\n",
       "  </thead>\n",
       "  <tbody>\n",
       "    <tr>\n",
       "      <th>0</th>\n",
       "      <td>000001</td>\n",
       "      <td>[0, 0, 0, 0, 0, 0, 0, 0, 0, 0, 0, 0, 0, 0, 0, ...</td>\n",
       "      <td>285</td>\n",
       "      <td>0000</td>\n",
       "      <td>Day</td>\n",
       "      <td>Normal</td>\n",
       "      <td>Yes</td>\n",
       "    </tr>\n",
       "    <tr>\n",
       "      <th>1</th>\n",
       "      <td>000002</td>\n",
       "      <td>[0, 0, 0, 0, 0, 0, 0, 0, 0, 0, 0, 0, 0, 0, 0, ...</td>\n",
       "      <td>646</td>\n",
       "      <td>0000</td>\n",
       "      <td>Day</td>\n",
       "      <td>Normal</td>\n",
       "      <td>Yes</td>\n",
       "    </tr>\n",
       "    <tr>\n",
       "      <th>2</th>\n",
       "      <td>000003</td>\n",
       "      <td>[0, 0, 0, 0, 0, 0, 0, 0, 0, 0, 0, 0, 0, 0, 0, ...</td>\n",
       "      <td>972</td>\n",
       "      <td>0000</td>\n",
       "      <td>Day</td>\n",
       "      <td>Normal</td>\n",
       "      <td>Yes</td>\n",
       "    </tr>\n",
       "    <tr>\n",
       "      <th>3</th>\n",
       "      <td>000004</td>\n",
       "      <td>[0, 0, 0, 0, 0, 0, 0, 0, 0, 0, 0, 0, 0, 0, 0, ...</td>\n",
       "      <td>1257</td>\n",
       "      <td>0000</td>\n",
       "      <td>Day</td>\n",
       "      <td>Normal</td>\n",
       "      <td>Yes</td>\n",
       "    </tr>\n",
       "    <tr>\n",
       "      <th>4</th>\n",
       "      <td>000005</td>\n",
       "      <td>[0, 0, 0, 0, 0, 0, 0, 0, 0, 0, 0, 0, 0, 0, 0, ...</td>\n",
       "      <td>462</td>\n",
       "      <td>0010</td>\n",
       "      <td>Day</td>\n",
       "      <td>Snowy</td>\n",
       "      <td>Yes</td>\n",
       "    </tr>\n",
       "    <tr>\n",
       "      <th>...</th>\n",
       "      <td>...</td>\n",
       "      <td>...</td>\n",
       "      <td>...</td>\n",
       "      <td>...</td>\n",
       "      <td>...</td>\n",
       "      <td>...</td>\n",
       "      <td>...</td>\n",
       "    </tr>\n",
       "    <tr>\n",
       "      <th>1495</th>\n",
       "      <td>001496</td>\n",
       "      <td>[0, 0, 0, 0, 0, 0, 0, 0, 0, 0, 0, 0, 0, 0, 0, ...</td>\n",
       "      <td>2116</td>\n",
       "      <td>0169</td>\n",
       "      <td>Day</td>\n",
       "      <td>Snowy</td>\n",
       "      <td>Yes</td>\n",
       "    </tr>\n",
       "    <tr>\n",
       "      <th>1496</th>\n",
       "      <td>001497</td>\n",
       "      <td>[0, 0, 0, 0, 0, 0, 0, 0, 0, 0, 0, 0, 0, 0, 0, ...</td>\n",
       "      <td>2591</td>\n",
       "      <td>0169</td>\n",
       "      <td>Day</td>\n",
       "      <td>Normal</td>\n",
       "      <td>Yes</td>\n",
       "    </tr>\n",
       "    <tr>\n",
       "      <th>1497</th>\n",
       "      <td>001498</td>\n",
       "      <td>[0, 0, 0, 0, 0, 0, 0, 0, 0, 0, 0, 0, 0, 0, 0, ...</td>\n",
       "      <td>4798</td>\n",
       "      <td>0169</td>\n",
       "      <td>Day</td>\n",
       "      <td>Snowy</td>\n",
       "      <td>Yes</td>\n",
       "    </tr>\n",
       "    <tr>\n",
       "      <th>1498</th>\n",
       "      <td>001499</td>\n",
       "      <td>[0, 0, 0, 0, 0, 0, 0, 0, 0, 0, 0, 0, 0, 0, 0, ...</td>\n",
       "      <td>548</td>\n",
       "      <td>0170</td>\n",
       "      <td>Day</td>\n",
       "      <td>Snowy</td>\n",
       "      <td>No</td>\n",
       "    </tr>\n",
       "    <tr>\n",
       "      <th>1499</th>\n",
       "      <td>001500</td>\n",
       "      <td>[0, 0, 0, 0, 0, 0, 0, 0, 0, 0, 0, 0, 0, 0, 0, ...</td>\n",
       "      <td>799</td>\n",
       "      <td>0170</td>\n",
       "      <td>Day</td>\n",
       "      <td>Normal</td>\n",
       "      <td>Yes</td>\n",
       "    </tr>\n",
       "  </tbody>\n",
       "</table>\n",
       "<p>1500 rows × 7 columns</p>\n",
       "</div>"
      ]
     },
     "execution_count": 22,
     "metadata": {},
     "output_type": "execute_result"
    }
   ],
   "execution_count": 22
  },
  {
   "metadata": {},
   "cell_type": "code",
   "outputs": [],
   "execution_count": null,
   "source": "",
   "id": "129d00912e95bb30"
  }
 ],
 "metadata": {
  "kernelspec": {
   "display_name": "Python 3",
   "language": "python",
   "name": "python3"
  },
  "language_info": {
   "codemirror_mode": {
    "name": "ipython",
    "version": 2
   },
   "file_extension": ".py",
   "mimetype": "text/x-python",
   "name": "python",
   "nbconvert_exporter": "python",
   "pygments_lexer": "ipython2",
   "version": "2.7.6"
  }
 },
 "nbformat": 4,
 "nbformat_minor": 5
}
