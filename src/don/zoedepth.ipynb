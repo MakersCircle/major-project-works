{
 "cells": [
  {
   "cell_type": "code",
   "id": "initial_id",
   "metadata": {
    "collapsed": true,
    "ExecuteTime": {
     "end_time": "2025-01-03T04:53:36.987693Z",
     "start_time": "2025-01-03T04:53:35.246167Z"
    }
   },
   "source": [
    "import torch\n",
    "import numpy as np\n",
    "import matplotlib\n",
    "from PIL import Image\n",
    "from pathlib import Path"
   ],
   "outputs": [],
   "execution_count": 1
  },
  {
   "metadata": {
    "ExecuteTime": {
     "end_time": "2025-01-03T04:53:49.025752Z",
     "start_time": "2025-01-03T04:53:37.667789Z"
    }
   },
   "cell_type": "code",
   "source": [
    "repo = \"isl-org/ZoeDepth\"\n",
    "\n",
    "# Zoe_K\n",
    "model_zoe_k = torch.hub.load(repo, \"ZoeD_K\", pretrained=True)"
   ],
   "id": "4ce7215b04227cc2",
   "outputs": [
    {
     "name": "stderr",
     "output_type": "stream",
     "text": [
      "Using cache found in /home/don/.cache/torch/hub/isl-org_ZoeDepth_main\n"
     ]
    },
    {
     "name": "stdout",
     "output_type": "stream",
     "text": [
      "Overwriting config with config_version kitti\n",
      "img_size [384, 768]\n"
     ]
    },
    {
     "name": "stderr",
     "output_type": "stream",
     "text": [
      "Using cache found in /home/don/.cache/torch/hub/intel-isl_MiDaS_master\n",
      "/home/don/miniconda3/envs/accident-anticipation/lib/python3.10/site-packages/tqdm/auto.py:21: TqdmWarning: IProgress not found. Please update jupyter and ipywidgets. See https://ipywidgets.readthedocs.io/en/stable/user_install.html\n",
      "  from .autonotebook import tqdm as notebook_tqdm\n",
      "/home/don/miniconda3/envs/accident-anticipation/lib/python3.10/site-packages/torch/functional.py:534: UserWarning: torch.meshgrid: in an upcoming release, it will be required to pass the indexing argument. (Triggered internally at /opt/conda/conda-bld/pytorch_1729647382455/work/aten/src/ATen/native/TensorShape.cpp:3595.)\n",
      "  return _VF.meshgrid(tensors, **kwargs)  # type: ignore[attr-defined]\n"
     ]
    },
    {
     "name": "stdout",
     "output_type": "stream",
     "text": [
      "Params passed to Resize transform:\n",
      "\twidth:  768\n",
      "\theight:  384\n",
      "\tresize_target:  True\n",
      "\tkeep_aspect_ratio:  True\n",
      "\tensure_multiple_of:  32\n",
      "\tresize_method:  minimal\n",
      "Using pretrained resource url::https://github.com/isl-org/ZoeDepth/releases/download/v1.0/ZoeD_M12_K.pt\n",
      "Loaded successfully\n"
     ]
    }
   ],
   "execution_count": 2
  },
  {
   "metadata": {
    "ExecuteTime": {
     "end_time": "2025-01-03T04:59:42.387820Z",
     "start_time": "2025-01-03T04:59:42.377151Z"
    }
   },
   "cell_type": "code",
   "source": [
    "DEVICE = \"cuda\" if torch.cuda.is_available() else \"cpu\"\n",
    "zoe = model_zoe_k.to(DEVICE).eval()"
   ],
   "id": "7954d8ea6b688a9a",
   "outputs": [],
   "execution_count": 15
  },
  {
   "metadata": {
    "ExecuteTime": {
     "end_time": "2025-01-03T04:54:04.879837Z",
     "start_time": "2025-01-03T04:54:04.875885Z"
    }
   },
   "cell_type": "code",
   "source": "root = Path().resolve().parent.parent",
   "id": "eb516d75b53c0885",
   "outputs": [],
   "execution_count": 4
  },
  {
   "metadata": {
    "ExecuteTime": {
     "end_time": "2025-01-03T04:48:19.945353Z",
     "start_time": "2025-01-03T04:48:19.943086Z"
    }
   },
   "cell_type": "code",
   "source": "",
   "id": "494fff4714674f4b",
   "outputs": [],
   "execution_count": null
  },
  {
   "metadata": {
    "ExecuteTime": {
     "end_time": "2025-01-03T04:54:08.404385Z",
     "start_time": "2025-01-03T04:54:08.381629Z"
    }
   },
   "cell_type": "code",
   "source": "image = Image.open(root / 'demo' / '00011.jpg').convert(\"RGB\")  # load",
   "id": "82e866fc08bcd790",
   "outputs": [],
   "execution_count": 5
  },
  {
   "metadata": {
    "ExecuteTime": {
     "end_time": "2025-01-03T04:59:47.885792Z",
     "start_time": "2025-01-03T04:59:46.549462Z"
    }
   },
   "cell_type": "code",
   "source": "depth = zoe.infer_pil(image)",
   "id": "4002f966a56a4d48",
   "outputs": [],
   "execution_count": 16
  },
  {
   "metadata": {
    "ExecuteTime": {
     "end_time": "2025-01-03T04:54:19.235175Z",
     "start_time": "2025-01-03T04:54:19.228216Z"
    }
   },
   "cell_type": "code",
   "source": [
    "def colorize(value, vmin=None, vmax=None, cmap='gray_r', invalid_val=-99, invalid_mask=None, background_color=(128, 128, 128, 255), gamma_corrected=False, value_transform=None):\n",
    "    \"\"\"Converts a depth map to a color image.\n",
    "\n",
    "    Args:\n",
    "        value (torch.Tensor, numpy.ndarry): Input depth map. Shape: (H, W) or (1, H, W) or (1, 1, H, W). All singular dimensions are squeezed\n",
    "        vmin (float, optional): vmin-valued entries are mapped to start color of cmap. If None, value.min() is used. Defaults to None.\n",
    "        vmax (float, optional):  vmax-valued entries are mapped to end color of cmap. If None, value.max() is used. Defaults to None.\n",
    "        cmap (str, optional): matplotlib colormap to use. Defaults to 'magma_r'.\n",
    "        invalid_val (int, optional): Specifies value of invalid pixels that should be colored as 'background_color'. Defaults to -99.\n",
    "        invalid_mask (numpy.ndarray, optional): Boolean mask for invalid regions. Defaults to None.\n",
    "        background_color (tuple[int], optional): 4-tuple RGB color to give to invalid pixels. Defaults to (128, 128, 128, 255).\n",
    "        gamma_corrected (bool, optional): Apply gamma correction to colored image. Defaults to False.\n",
    "        value_transform (Callable, optional): Apply transform function to valid pixels before coloring. Defaults to None.\n",
    "\n",
    "    Returns:\n",
    "        numpy.ndarray, dtype - uint8: Colored depth map. Shape: (H, W, 4)\n",
    "    \"\"\"\n",
    "    if isinstance(value, torch.Tensor):\n",
    "        value = value.detach().cpu().numpy()\n",
    "\n",
    "    value = value.squeeze()\n",
    "    if invalid_mask is None:\n",
    "        invalid_mask = value == invalid_val\n",
    "    mask = np.logical_not(invalid_mask)\n",
    "\n",
    "    # normalize\n",
    "    vmin = np.percentile(value[mask],2) if vmin is None else vmin\n",
    "    vmax = np.percentile(value[mask],85) if vmax is None else vmax\n",
    "    if vmin != vmax:\n",
    "        value = (value - vmin) / (vmax - vmin)  # vmin..vmax\n",
    "    else:\n",
    "        # Avoid 0-division\n",
    "        value = value * 0.\n",
    "\n",
    "    # squeeze last dim if it exists\n",
    "    # grey out the invalid values\n",
    "\n",
    "    value[invalid_mask] = np.nan\n",
    "    cmapper = matplotlib.cm.get_cmap(cmap)\n",
    "    if value_transform:\n",
    "        value = value_transform(value)\n",
    "        # value = value / value.max()\n",
    "    value = cmapper(value, bytes=True)  # (nxmx4)\n",
    "\n",
    "    # img = value[:, :, :]\n",
    "    img = value[...]\n",
    "    img[invalid_mask] = background_color\n",
    "\n",
    "    #     return img.transpose((2, 0, 1))\n",
    "    if gamma_corrected:\n",
    "        # gamma correction\n",
    "        img = img / 255\n",
    "        img = np.power(img, 2.2)\n",
    "        img = img * 255\n",
    "        img = img.astype(np.uint8)\n",
    "    return img"
   ],
   "id": "e72bc73b93aa84b8",
   "outputs": [],
   "execution_count": 7
  },
  {
   "metadata": {
    "ExecuteTime": {
     "end_time": "2025-01-03T04:55:55.999397Z",
     "start_time": "2025-01-03T04:55:55.962667Z"
    }
   },
   "cell_type": "code",
   "source": "colored = colorize(depth)",
   "id": "dc6731ff67863233",
   "outputs": [
    {
     "name": "stderr",
     "output_type": "stream",
     "text": [
      "/tmp/ipykernel_54923/721933153.py:39: MatplotlibDeprecationWarning: The get_cmap function was deprecated in Matplotlib 3.7 and will be removed in 3.11. Use ``matplotlib.colormaps[name]`` or ``matplotlib.colormaps.get_cmap()`` or ``pyplot.get_cmap()`` instead.\n",
      "  cmapper = matplotlib.cm.get_cmap(cmap)\n"
     ]
    }
   ],
   "execution_count": 13
  },
  {
   "metadata": {
    "ExecuteTime": {
     "end_time": "2025-01-03T04:56:46.812729Z",
     "start_time": "2025-01-03T04:56:46.747311Z"
    }
   },
   "cell_type": "code",
   "source": [
    "fpath_colored = root / 'demo' / '00011_depth.png'\n",
    "Image.fromarray(colored).save(fpath_colored)"
   ],
   "id": "817ab4f44e2beb4f",
   "outputs": [],
   "execution_count": 14
  },
  {
   "metadata": {},
   "cell_type": "code",
   "outputs": [],
   "execution_count": null,
   "source": "",
   "id": "bc8b11103756acdb"
  }
 ],
 "metadata": {
  "kernelspec": {
   "display_name": "Python 3",
   "language": "python",
   "name": "python3"
  },
  "language_info": {
   "codemirror_mode": {
    "name": "ipython",
    "version": 2
   },
   "file_extension": ".py",
   "mimetype": "text/x-python",
   "name": "python",
   "nbconvert_exporter": "python",
   "pygments_lexer": "ipython2",
   "version": "2.7.6"
  }
 },
 "nbformat": 4,
 "nbformat_minor": 5
}
