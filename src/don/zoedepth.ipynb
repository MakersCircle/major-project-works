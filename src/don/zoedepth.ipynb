{
 "cells": [
  {
   "metadata": {
    "ExecuteTime": {
     "end_time": "2025-01-13T19:18:12.827540Z",
     "start_time": "2025-01-13T19:18:11.441406Z"
    }
   },
   "cell_type": "code",
   "source": [
    "import torch\n",
    "import numpy as np\n",
    "import matplotlib\n",
    "from PIL import Image\n",
    "from pathlib import Path"
   ],
   "id": "1bb80204108fd70b",
   "outputs": [],
   "execution_count": 1
  },
  {
   "metadata": {
    "ExecuteTime": {
     "end_time": "2025-01-13T19:18:30.839258Z",
     "start_time": "2025-01-13T19:18:30.833598Z"
    }
   },
   "cell_type": "code",
   "source": [
    "def colorize(value, vmin=None, vmax=None, cmap='gray_r', invalid_val=-99, invalid_mask=None, background_color=(128, 128, 128, 255), gamma_corrected=False, value_transform=None):\n",
    "    \"\"\"Converts a depth map to a color image.\n",
    "\n",
    "    Args:\n",
    "        value (torch.Tensor, numpy.ndarry): Input depth map. Shape: (H, W) or (1, H, W) or (1, 1, H, W). All singular dimensions are squeezed\n",
    "        vmin (float, optional): vmin-valued entries are mapped to start color of cmap. If None, value.min() is used. Defaults to None.\n",
    "        vmax (float, optional):  vmax-valued entries are mapped to end color of cmap. If None, value.max() is used. Defaults to None.\n",
    "        cmap (str, optional): matplotlib colormap to use. Defaults to 'magma_r'.\n",
    "        invalid_val (int, optional): Specifies value of invalid pixels that should be colored as 'background_color'. Defaults to -99.\n",
    "        invalid_mask (numpy.ndarray, optional): Boolean mask for invalid regions. Defaults to None.\n",
    "        background_color (tuple[int], optional): 4-tuple RGB color to give to invalid pixels. Defaults to (128, 128, 128, 255).\n",
    "        gamma_corrected (bool, optional): Apply gamma correction to colored image. Defaults to False.\n",
    "        value_transform (Callable, optional): Apply transform function to valid pixels before coloring. Defaults to None.\n",
    "\n",
    "    Returns:\n",
    "        numpy.ndarray, dtype - uint8: Colored depth map. Shape: (H, W, 4)\n",
    "    \"\"\"\n",
    "    if isinstance(value, torch.Tensor):\n",
    "        value = value.detach().cpu().numpy()\n",
    "\n",
    "    value = value.squeeze()\n",
    "    if invalid_mask is None:\n",
    "        invalid_mask = value == invalid_val\n",
    "    mask = np.logical_not(invalid_mask)\n",
    "\n",
    "    # normalize\n",
    "    vmin = np.percentile(value[mask],2) if vmin is None else vmin\n",
    "    vmax = np.percentile(value[mask],85) if vmax is None else vmax\n",
    "    if vmin != vmax:\n",
    "        value = (value - vmin) / (vmax - vmin)  # vmin..vmax\n",
    "    else:\n",
    "        # Avoid 0-division\n",
    "        value = value * 0.\n",
    "\n",
    "    # squeeze last dim if it exists\n",
    "    # grey out the invalid values\n",
    "\n",
    "    value[invalid_mask] = np.nan\n",
    "    cmapper = matplotlib.cm.get_cmap(cmap)\n",
    "    if value_transform:\n",
    "        value = value_transform(value)\n",
    "        # value = value / value.max()\n",
    "    value = cmapper(value, bytes=True)  # (nxmx4)\n",
    "\n",
    "    # img = value[:, :, :]\n",
    "    img = value[...]\n",
    "    img[invalid_mask] = background_color\n",
    "\n",
    "    #     return img.transpose((2, 0, 1))\n",
    "    if gamma_corrected:\n",
    "        # gamma correction\n",
    "        img = img / 255\n",
    "        img = np.power(img, 2.2)\n",
    "        img = img * 255\n",
    "        img = img.astype(np.uint8)\n",
    "    return img\n"
   ],
   "id": "feb0f17db3eff29f",
   "outputs": [],
   "execution_count": 2
  },
  {
   "metadata": {},
   "cell_type": "code",
   "outputs": [],
   "execution_count": null,
   "source": "",
   "id": "5a893039ba5fc24b"
  }
 ],
 "metadata": {
  "kernelspec": {
   "display_name": "Python 3",
   "language": "python",
   "name": "python3"
  },
  "language_info": {
   "codemirror_mode": {
    "name": "ipython",
    "version": 2
   },
   "file_extension": ".py",
   "mimetype": "text/x-python",
   "name": "python",
   "nbconvert_exporter": "python",
   "pygments_lexer": "ipython2",
   "version": "2.7.6"
  }
 },
 "nbformat": 4,
 "nbformat_minor": 5
}
