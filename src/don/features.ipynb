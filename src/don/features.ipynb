{
 "cells": [
  {
   "cell_type": "code",
   "id": "initial_id",
   "metadata": {
    "collapsed": true,
    "ExecuteTime": {
     "end_time": "2025-01-22T04:24:06.868696Z",
     "start_time": "2025-01-22T04:24:06.798592Z"
    }
   },
   "source": [
    "import cv2\n",
    "import numpy as np\n",
    "from pathlib import Path"
   ],
   "outputs": [],
   "execution_count": 2
  },
  {
   "metadata": {
    "ExecuteTime": {
     "end_time": "2025-01-22T04:24:07.272479Z",
     "start_time": "2025-01-22T04:24:07.269055Z"
    }
   },
   "cell_type": "code",
   "source": "root = Path().resolve().parent.parent",
   "id": "760cb04191d30fd0",
   "outputs": [],
   "execution_count": 3
  },
  {
   "metadata": {
    "ExecuteTime": {
     "end_time": "2025-01-22T04:24:07.733815Z",
     "start_time": "2025-01-22T04:24:07.730948Z"
    }
   },
   "cell_type": "code",
   "source": [
    "feature_path = root / 'datasets' / 'ccd' / 'vgg16_features'\n",
    "file_class = 'positive'\n",
    "np_file = '000004.npz'"
   ],
   "id": "fead2fea0003f811",
   "outputs": [],
   "execution_count": 4
  },
  {
   "metadata": {
    "ExecuteTime": {
     "end_time": "2025-01-22T04:24:08.357301Z",
     "start_time": "2025-01-22T04:24:08.352704Z"
    }
   },
   "cell_type": "code",
   "source": "np_feature = np.load(feature_path / file_class / np_file)",
   "id": "23f073cb4d48e788",
   "outputs": [],
   "execution_count": 5
  },
  {
   "metadata": {
    "ExecuteTime": {
     "end_time": "2025-01-22T04:24:08.691415Z",
     "start_time": "2025-01-22T04:24:08.590958Z"
    }
   },
   "cell_type": "code",
   "source": "np_feature['data'].shape",
   "id": "28ed1ef8a3c8bbfe",
   "outputs": [
    {
     "data": {
      "text/plain": [
       "(50, 20, 4096)"
      ]
     },
     "execution_count": 6,
     "metadata": {},
     "output_type": "execute_result"
    }
   ],
   "execution_count": 6
  },
  {
   "metadata": {
    "ExecuteTime": {
     "end_time": "2025-01-22T04:24:08.947943Z",
     "start_time": "2025-01-22T04:24:08.944681Z"
    }
   },
   "cell_type": "code",
   "source": "np_feature",
   "id": "324a6d1eb7a5ba77",
   "outputs": [
    {
     "data": {
      "text/plain": [
       "NpzFile '/home/don/Projects/misc/major-project-works/datasets/ccd/vgg16_features/positive/000004.npz' with keys: data, det, labels, ID"
      ]
     },
     "execution_count": 7,
     "metadata": {},
     "output_type": "execute_result"
    }
   ],
   "execution_count": 7
  },
  {
   "metadata": {
    "ExecuteTime": {
     "end_time": "2025-01-22T04:24:09.469469Z",
     "start_time": "2025-01-22T04:24:09.464844Z"
    }
   },
   "cell_type": "code",
   "source": "np_feature['det'].shape",
   "id": "de9f6359f8190ca9",
   "outputs": [
    {
     "data": {
      "text/plain": [
       "(50, 19, 6)"
      ]
     },
     "execution_count": 8,
     "metadata": {},
     "output_type": "execute_result"
    }
   ],
   "execution_count": 8
  },
  {
   "metadata": {
    "ExecuteTime": {
     "end_time": "2025-01-22T04:24:10.422419Z",
     "start_time": "2025-01-22T04:24:10.419772Z"
    }
   },
   "cell_type": "code",
   "source": [
    "video_path = root / 'datasets' / 'ccd' /'videos'\n",
    "videofile = '000004.mp4'"
   ],
   "id": "2b263e6ad53217ba",
   "outputs": [],
   "execution_count": 9
  },
  {
   "metadata": {
    "ExecuteTime": {
     "end_time": "2025-01-22T04:24:12.173809Z",
     "start_time": "2025-01-22T04:24:12.166761Z"
    }
   },
   "cell_type": "code",
   "source": "cap = cv2.VideoCapture(str(video_path / file_class / videofile))",
   "id": "7c902ae0a05fc5fc",
   "outputs": [],
   "execution_count": 10
  },
  {
   "metadata": {
    "ExecuteTime": {
     "end_time": "2025-01-22T04:24:58.967228Z",
     "start_time": "2025-01-22T04:24:12.738486Z"
    }
   },
   "cell_type": "code",
   "source": [
    "frame_index = 0\n",
    "fps = 10  # Video frame rate\n",
    "\n",
    "while cap.isOpened():\n",
    "    ret, frame = cap.read()\n",
    "    if not ret:\n",
    "        print(\"End of video reached or error reading frame.\")\n",
    "        break\n",
    "\n",
    "    # Draw bounding boxes for the current frame\n",
    "    if frame_index < len(np_feature['det']):\n",
    "        for det in np_feature['det'][frame_index]:\n",
    "            x1, y1, x2, y2, prob, cls = det\n",
    "\n",
    "            color = (0, 255, 0) if cls == 1 else (0, 0, 255)  # Green for class 1, red otherwise\n",
    "            thickness = 2\n",
    "            frame = cv2.rectangle(frame, (int(x1), int(y1)), (int(x2), int(y2)), color, thickness)\n",
    "            label = f\"Class: {int(cls)}, Prob: {prob:.2f}\"\n",
    "            frame = cv2.putText(frame, label, (int(x1), int(y1) - 10), cv2.FONT_HERSHEY_SIMPLEX, 0.5, color, 1)\n",
    "\n",
    "    # Display the frame\n",
    "    cv2.imshow(\"Video with Bounding Boxes\", frame)\n",
    "\n",
    "    # Wait for the correct time to match frame rate\n",
    "    key = cv2.waitKey(0)  # Wait indefinitely for keypress\n",
    "    if key & 0xFF == ord('q'):  # Quit on 'q'\n",
    "        break\n",
    "    elif key & 0xFF == ord('n'):  # Next frame on 'n'\n",
    "        frame_index += 1\n",
    "    elif key & 0xFF == ord('p'):  # Previous frame on 'p'\n",
    "        frame_index = max(0, frame_index - 1)\n",
    "        cap.set(cv2.CAP_PROP_POS_FRAMES, frame_index)\n",
    "\n",
    "cap.release()\n",
    "#cv2.destroyAllWindows()"
   ],
   "id": "2c03567c3c8be9bd",
   "outputs": [
    {
     "name": "stderr",
     "output_type": "stream",
     "text": [
      "Warning: Ignoring XDG_SESSION_TYPE=wayland on Gnome. Use QT_QPA_PLATFORM=wayland to run on Wayland anyway.\n"
     ]
    }
   ],
   "execution_count": 11
  },
  {
   "metadata": {},
   "cell_type": "code",
   "outputs": [],
   "execution_count": null,
   "source": "",
   "id": "7af514ba7d0d7f20"
  }
 ],
 "metadata": {
  "kernelspec": {
   "display_name": "Python 3",
   "language": "python",
   "name": "python3"
  },
  "language_info": {
   "codemirror_mode": {
    "name": "ipython",
    "version": 2
   },
   "file_extension": ".py",
   "mimetype": "text/x-python",
   "name": "python",
   "nbconvert_exporter": "python",
   "pygments_lexer": "ipython2",
   "version": "2.7.6"
  }
 },
 "nbformat": 4,
 "nbformat_minor": 5
}
