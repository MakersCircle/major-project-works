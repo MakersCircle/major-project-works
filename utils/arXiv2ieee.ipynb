{
 "cells": [
  {
   "cell_type": "code",
   "id": "initial_id",
   "metadata": {
    "collapsed": true,
    "ExecuteTime": {
     "end_time": "2024-12-07T14:49:04.829681Z",
     "start_time": "2024-12-07T14:49:04.823985Z"
    }
   },
   "source": "import re",
   "outputs": [],
   "execution_count": 1
  },
  {
   "metadata": {
    "ExecuteTime": {
     "end_time": "2024-12-07T15:35:31.305138Z",
     "start_time": "2024-12-07T15:35:31.301766Z"
    }
   },
   "cell_type": "code",
   "source": [
    "def format_author_list(author_list):\n",
    "    formated_author_list = []\n",
    "    for author in author_list:\n",
    "        parts = author.split()\n",
    "        name = ''\n",
    "        for part in parts[:-1]:\n",
    "            name += f'{part.capitalize()[0]}. '\n",
    "        name += parts[-1].title()\n",
    "        formated_author_list.append(name)\n",
    "\n",
    "    formated_authors = ''\n",
    "    if len(formated_author_list) == 1:\n",
    "        formated_authors = formated_author_list[0]\n",
    "    elif len(formated_author_list) == 2:\n",
    "        formated_authors = \" and \".join(formated_author_list)\n",
    "    else:\n",
    "        formated_authors = \", \".join(formated_author_list[:-1]) + \", and \" + formated_author_list[-1]\n",
    "\n",
    "    return formated_authors"
   ],
   "id": "be6db838014cdf4a",
   "outputs": [],
   "execution_count": 31
  },
  {
   "metadata": {
    "ExecuteTime": {
     "end_time": "2024-12-07T16:26:00.162832Z",
     "start_time": "2024-12-07T16:26:00.159142Z"
    }
   },
   "cell_type": "code",
   "source": [
    "def convert_citation(bibtex):\n",
    "    title_match = re.search(r\"title=\\{(.*?)\\},\", bibtex, re.DOTALL)\n",
    "    author_match = re.search(r\"author=\\{(.*?)\\},\", bibtex, re.DOTALL)\n",
    "    year_match = re.search(r\"year=\\{(\\d{4})\\},\", bibtex)\n",
    "    url_match = re.search(r\"url=\\{(.*?)\\},\", bibtex)\n",
    "\n",
    "    if not (title_match and author_match and year_match and url_match):\n",
    "        raise ValueError(\"Missing required fields in BibTeX entry.\")\n",
    "\n",
    "    title = title_match.group(1).strip()\n",
    "    authors = author_match.group(1).strip()\n",
    "    year = year_match.group(1).strip()\n",
    "    url = url_match.group(1).strip()\n",
    "\n",
    "    author_list = authors.split(\" and \")\n",
    "\n",
    "    formated_authors = format_author_list(author_list)\\\n",
    "\n",
    "    ieee_plaintext = f'{formated_authors}, \"{title},\" {year}, arXiv:{url.split(\"/\")[-1]}'\n",
    "    ieee_bibitem = f'{formated_authors}, ``{title},\\'\\' {year}, arXiv:{url.split(\"/\")[-1]}'\n",
    "    return ieee_plaintext, ieee_bibitem"
   ],
   "id": "fb7e941533b09282",
   "outputs": [],
   "execution_count": 43
  },
  {
   "metadata": {
    "ExecuteTime": {
     "end_time": "2024-12-07T16:26:01.478722Z",
     "start_time": "2024-12-07T16:26:01.475843Z"
    }
   },
   "cell_type": "code",
   "source": [
    "def main():\n",
    "    bibtex = input('Enter arXiv BibTeX: ')\n",
    "    citation_plaintext, citation_bibitem = convert_citation(bibtex)\n",
    "    \n",
    "    # Generate a unique key for Bibitem (optional: can be based on authors, year, etc.)\n",
    "    key = ''\n",
    "    \n",
    "    # Print results\n",
    "    print(f'\\nIEEE Plaintext:\\n{citation_plaintext}')\n",
    "    print(f'\\nIEEE Bibitem:\\n\\\\bibitem{{{key}}}\\n{citation_bibitem}')"
   ],
   "id": "35d666c8fb892cc5",
   "outputs": [],
   "execution_count": 44
  },
  {
   "metadata": {},
   "cell_type": "code",
   "source": [
    "if __name__ == '__main__':\n",
    "    main()"
   ],
   "id": "a97aa5fd78ae36af",
   "outputs": [],
   "execution_count": null
  },
  {
   "metadata": {
    "ExecuteTime": {
     "end_time": "2024-12-07T15:53:03.371149Z",
     "start_time": "2024-12-07T15:53:03.369098Z"
    }
   },
   "cell_type": "code",
   "source": "",
   "id": "5253c35c80d4b662",
   "outputs": [],
   "execution_count": null
  }
 ],
 "metadata": {
  "kernelspec": {
   "display_name": "Python 3",
   "language": "python",
   "name": "python3"
  },
  "language_info": {
   "codemirror_mode": {
    "name": "ipython",
    "version": 2
   },
   "file_extension": ".py",
   "mimetype": "text/x-python",
   "name": "python",
   "nbconvert_exporter": "python",
   "pygments_lexer": "ipython2",
   "version": "2.7.6"
  }
 },
 "nbformat": 4,
 "nbformat_minor": 5
}
